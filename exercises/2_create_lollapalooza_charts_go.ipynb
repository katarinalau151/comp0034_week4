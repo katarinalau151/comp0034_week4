{
 "cells": [
  {
   "cell_type": "markdown",
   "metadata": {
    "collapsed": true
   },
   "source": [
    "# Creating the Lollapalooza charts from Déborah Mesquita's tutorial\n",
    "\n",
    "[Tutorial on freecodecamp](https://www.freecodecamp.org/news/how-and-why-i-used-plotly-instead-of-d3-to-visualize-my-lollapalooza-data-d48345e2ca68/)\n",
    "\n",
    "The following text is copied from the article and placed in this notebook to make it easier for you to render the charts.\n",
    "\n",
    "There is no video explanation for this activity as you already completed it once last week for the plotly express version of the charts."
   ]
  },
  {
   "cell_type": "markdown",
   "metadata": {
    "pycharm": {
     "name": "#%% md\n"
    }
   },
   "source": [
    "## My Lollapalooza experience\n",
    "\n",
    "For the 2018 edition of Lollapalooza Brazil, all purchases were made through an RFID-enabled wristband. They send the data to your email address, so I decided to take a look at it. What can we learn about me and my experience by analyzing the purchases I made at the festival?\n",
    "\n",
    "This is how the data looks:\n",
    "\n",
    "- purchase date\n",
    "- purchase hour\n",
    "- product\n",
    "- quantity\n",
    "- stage\n",
    "- place where I did the purchase\n",
    "\n",
    "Based on this data, let’s answer some questions."
   ]
  },
  {
   "cell_type": "markdown",
   "metadata": {
    "pycharm": {
     "name": "#%% md\n"
    }
   },
   "source": [
    "## Where did I go during the festival?\n",
    "\n",
    "The data only tells us the name of the location where I made the purchase, and the festival took place at Autódromo de Interlagos. \n",
    "\n",
    "I took the map with the stages from here and used the georeferencer tool from georeference.com to get the latitude and longitude coordinates for the stages.\n",
    "\n",
    "We need to display a map and the markers for each purchase, so we will use Mapbox and the scattermapbox trace. \n",
    "\n",
    "You will need to [generate a mapbox token from the mapbox site](https://www.mapbox.com/help/define-access-token/) and then place your token in the first line of code after the import statements in the cell below. You will need to create an account to do this. If you don't feel comfortable in signing up then you can skip this chart and move to the next.\n",
    "\n",
    "First let’s plot only the stages to see how this works:"
   ]
  },
  {
   "cell_type": "code",
   "execution_count": null,
   "metadata": {
    "pycharm": {
     "is_executing": true,
     "name": "#%%\n"
    }
   },
   "outputs": [],
   "source": [
    "import plotly.graph_objects as go\n",
    "import pandas as pd\n",
    "import plotly.io as pio\n",
    "pio.renderers.default = \"notebook\"\n",
    "\n",
    "mapbox_token = \"\" # Add your mapbox token here\n",
    "\n",
    "df = pd.read_csv(\"../data/stages.csv\")\n",
    "\n",
    "trace = go.Scattermapbox(lat = df[\"latitude\"], lon = df[\"longitude\"], text=df[\"stage\"], marker=go.scattermapbox.Marker(size=10), mode=\"markers+text\", textposition=\"top left\")\n",
    "\n",
    "data = [trace]\n",
    "\n",
    "layout = go.Layout(mapbox=dict(accesstoken=mapbox_token, center=dict(lat = -23.701057,lon = -46.6970635), zoom=14.5))\n",
    "\n",
    "figure = go.Figure(data=data, layout= layout)\n",
    "\n",
    "figure.show()"
   ]
  },
  {
   "cell_type": "markdown",
   "metadata": {
    "pycharm": {
     "name": "#%% md\n"
    }
   },
   "source": [
    "## How did I spend my money?\n",
    "To answer that, I created a bar chart with my spendings for food and beverage by each day and built a heatmap to show when I bought stuff. \n",
    "\n",
    "We already saw how to build a bar chart (in the previous exercise):"
   ]
  },
  {
   "cell_type": "code",
   "execution_count": null,
   "metadata": {
    "pycharm": {
     "is_executing": true,
     "name": "#%%\n"
    }
   },
   "outputs": [],
   "source": [
    "import plotly.graph_objects as go\n",
    "import pandas as pd\n",
    "import plotly.io as pio\n",
    "pio.renderers.default = \"notebook\"\n",
    "\n",
    "df = pd.read_csv(\"../data/purchase_data.csv\")\n",
    "\n",
    "df_purchases_by_place = df.pivot_table(index=\"place\",columns=\"date\",values=\"price\",aggfunc=\"sum\").fillna(0)\n",
    "\n",
    "data = []\n",
    "\n",
    "for index,place in df_purchases_by_place.iterrows():\n",
    "    trace = go.Bar(x = df_purchases_by_place.columns, y = place, name=index)\n",
    "    data.append(trace)\n",
    "\n",
    "layout = go.Layout(title=\"Purchases by place\", showlegend=True, barmode=\"stack\")\n",
    "\n",
    "figure = go.Figure(data=data, layout=layout)\n",
    "\n",
    "figure.show()"
   ]
  },
  {
   "cell_type": "markdown",
   "metadata": {
    "pycharm": {
     "name": "#%% md\n"
    }
   },
   "source": [
    "Now let’s build a heatmap chart:"
   ]
  },
  {
   "cell_type": "code",
   "execution_count": null,
   "metadata": {
    "pycharm": {
     "is_executing": true,
     "name": "#%%\n"
    }
   },
   "outputs": [],
   "source": [
    "import plotly.graph_objects as go\n",
    "import pandas as pd\n",
    "import plotly.io as pio\n",
    "pio.renderers.default = \"notebook\"\n",
    "\n",
    "df = pd.read_csv(\"../data/purchase_data.csv\")\n",
    "\n",
    "df_purchases_by_type = df.pivot_table(index=\"place\",columns=\"date\",values=\"price\",aggfunc=\"sum\").fillna(0)\n",
    "\n",
    "df[\"hour_int\"] = pd.to_datetime(df[\"hour\"], format=\"%H:%M\", errors='coerce').apply(lambda x: int(x.hour))\n",
    "\n",
    "df_heatmap = df.pivot_table(index=\"date\",values=\"price\",columns=\"hour\", aggfunc=\"sum\").fillna(0)\n",
    "\n",
    "trace_heatmap = go.Heatmap(x = df_heatmap.columns, \n",
    "                           y = df_heatmap.index, \n",
    "                           z = [df_heatmap.iloc[0], \n",
    "                                df_heatmap.iloc[1], \n",
    "                                df_heatmap.iloc[2]])\n",
    "\n",
    "data = [trace_heatmap]\n",
    "\n",
    "layout = go.Layout(title=\"Purchases by place\", showlegend=True)\n",
    "\n",
    "figure = go.Figure(data=data, layout=layout)\n",
    "\n",
    "figure.show()"
   ]
  },
  {
   "cell_type": "markdown",
   "metadata": {},
   "source": [
    "## Which concerts did I watch?\n",
    "Now let’s go to the coolest part: could I guess the concerts I attended based only on my purchases?\n",
    "\n",
    "Ideally, when we are watching a show, we are watching the show (and not buying stuff), so the purchases should be made before or after each concert. I then made a list of each concert happening one hour before, one hour after, and according to the time the purchase was made.\n",
    "\n",
    "To find out which one of these shows I attended, I calculated the distance from the location of the purchase to each stage. The shows I attended should be the ones with the shortest distance to the concessions.\n",
    "\n",
    "As we want to show each data point, the best choice for a visualization is a table. Let’s build one:\n"
   ]
  },
  {
   "cell_type": "code",
   "execution_count": null,
   "metadata": {
    "pycharm": {
     "is_executing": true,
     "name": "#%%\n"
    }
   },
   "outputs": [],
   "source": [
    "import plotly.graph_objects as go\n",
    "import pandas as pd\n",
    "import plotly.io as pio\n",
    "pio.renderers.default = \"notebook\"\n",
    "\n",
    "df_table = pd.read_csv(\"../data/concerts_I_attended.csv\")\n",
    "\n",
    "def color_font(x):    \n",
    "    if x == \"Yes\":       \n",
    "        return \"rgb(0,0,9)\"    \n",
    "    else:       \n",
    "        return \"rgb(178,178,178)\"\n",
    "    \n",
    "df_table[\"color\"] = df_table[\"correct\"].apply(lambda x: color_font(x))\n",
    "\n",
    "trace_table = go.Table(header=dict(values=[\"Concert\",\"Date\",\"Correct?\"], fill=dict(color=(\"rgb(82,187,47)\"))),\n",
    "                       cells=dict(values= [df_table.concert, df_table.date,df_table.correct], font=dict(color=([df_table.color]))))\n",
    "\n",
    "data = [trace_table]\n",
    "\n",
    "figure = go.Figure(data = data)\n",
    "\n",
    "figure.show()"
   ]
  },
  {
   "cell_type": "markdown",
   "metadata": {
    "pycharm": {
     "name": "#%% md\n"
    }
   },
   "source": [
    "Three concerts were missing and four were incorrect, giving us a precision of 67% and recall of 72%.\n"
   ]
  }
 ],
 "metadata": {
  "kernelspec": {
   "display_name": "Python 3",
   "language": "python",
   "name": "python3"
  },
  "language_info": {
   "codemirror_mode": {
    "name": "ipython",
    "version": 3
   },
   "file_extension": ".py",
   "mimetype": "text/x-python",
   "name": "python",
   "nbconvert_exporter": "python",
   "pygments_lexer": "ipython3",
   "version": "3.7.3"
  }
 },
 "nbformat": 4,
 "nbformat_minor": 1
}