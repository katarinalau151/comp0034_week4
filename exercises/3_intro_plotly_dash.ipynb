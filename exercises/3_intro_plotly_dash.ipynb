{
 "cells": [
  {
   "cell_type": "markdown",
   "metadata": {
    "collapsed": true
   },
   "source": [
    "# Introduction to Plotly Dash\n",
    "## Overview\n",
    ">\"Dash is a Python framework for building analytical web applications. No JavaScript required. Dash is ideal for building data visualization apps with highly custom user interfaces in pure Python. It’s particularly suited for anyone who works with data in Python.” — Plotly’s site\n",
    "\n",
    "Dash is written on top of Flask, Plotly.js, and React.js. \n",
    "\n",
    "## How does Dash work? \n",
    "\n",
    "Dash is comprised of:\n",
    "- Frontend generated in Python\n",
    "- Component class for every HTML tag as well as keyword arguments for all of the HTML arguments implemented in dash_html_components package\n",
    "- Interactive html elements implemented in dash-core-components\n",
    "- Plotly python API implemented in dash-core-components available through Graph class\n",
    "\n",
    "You declare an app layout. The layout will generate react code that will be run in the browser. \n",
    "\n",
    "As the layout will generate HTML then it contains elements. Each element has attributes that describe its state.\n",
    "\n",
    "Elements and attributes can be changed by interaction with the user in the browser which makes the app re-render itself. \n",
    "\n",
    "You can listen on any changes to those attributes and run callbacks. \n",
    "\n",
    "The frontend in the browser sends an HTTP request every time an input is changed. \n",
    "\n",
    "The backend recalculates the graph of dependencies and sends back the list of changes to the frontend.\n",
    "\n",
    "The inputs and outputs of our application interface are simply the properties of a particular component. The inputs and outputs are described declaratively through the app.callback decorator. \n",
    "\n",
    "## A basic structure for a Dash app\n",
    "We will get started by building a basic Dash app in a single Python file that presents a chart but doesn't allow any user interaction (i.e. we will leave input/output and callbacks to next week).\n",
    "\n",
    "The general sequence of programming steps for our app is:\n",
    "\n",
    "1. Import the required libraries\n",
    "2. Import the dataset\n",
    "3. Create the app instance\n",
    "4. Create the Plotly figure(s)\n",
    "5. Create the layout\n",
    "6. Run the server\n",
    "\n",
    "The libraries we will use in this first example are:\n",
    "- Pandas: to read and structure the data set\n",
    "- Plotly express: to create the chart\n",
    "- Dash: provides the back end Dash server capability\n",
    "- dash_html_components: provides classes for all of the HTML tags, and the keyword arguments describe the HTML attributes such as style, class, and id.\n",
    "- dash_core_components: provides higher-level components such as controls and graphs"
   ]
  },
  {
   "cell_type": "code",
   "execution_count": null,
   "metadata": {},
   "outputs": [
    {
     "name": "stdout",
     "output_type": "stream",
     "text": [
      "Dash is running on http://127.0.0.1:8050/\n",
      "\n",
      " Warning: This is a development server. Do not use app.run_server\n",
      " in production, use a production WSGI server like gunicorn instead.\n",
      "\n",
      " * Serving Flask app \"__main__\" (lazy loading)\n",
      " * Environment: production\n",
      "\u001B[31m   WARNING: This is a development server. Do not use it in a production deployment.\u001B[0m\n",
      "\u001B[2m   Use a production WSGI server instead.\u001B[0m\n",
      " * Debug mode: on\n"
     ]
    }
   ],
   "source": [
    "# Import the required libraries.\n",
    "import pandas as pd\n",
    "import plotly.express as px\n",
    "import dash\n",
    "import dash_core_components as dcc\n",
    "import dash_html_components as html\n",
    "\n",
    "# Import the data set\n",
    "df = pd.read_csv(\"../data/data.csv\")\n",
    "df['spend'] = df['price']*df['quantitiy']\n",
    "df = df[['date', 'place', 'spend']]\n",
    "df = df.groupby(['date','place']).sum().reset_index()\n",
    "\n",
    "# Create the Plotly figure (bar chart from the previous activity)\n",
    "fig = px.bar(df, x=\"spend\", y=\"date\", color=\"place\", title=\"Purchases by place\")\n",
    "\n",
    "# Create a Dash app \n",
    "app = dash.Dash(__name__)\n",
    "\n",
    "# Create the app layout and add the bar chart to it\n",
    "app.layout = html.Div(children=[\n",
    "    \n",
    "    html.H1(children='Lollapalooza experience'),\n",
    "    \n",
    "    dcc.Graph(figure=fig)\n",
    "])\n",
    "\n",
    "# Run the web app server (turn off reloader as we are running it inside a Jupyter notebook)\n",
    "app.run_server(debug=True, use_reloader=False)  \n"
   ]
  },
  {
   "cell_type": "markdown",
   "metadata": {},
   "source": [
    "## App layout\n",
    "\n",
    "The following is from the [Dash documentation](https://dash.plotly.com/layout).\n",
    "\n",
    "Note:\n",
    "\n",
    "1. The layout of a Dash app describes what the app looks like. The layout is a hierarchical tree of components e.g. such as html.Div and dcc.Graph in the above example.\n",
    "\n",
    "2. The dash_html_components library provides classes for all of the HTML tags and the keyword arguments describe the HTML attributes like style, className, and id. The html.H1(children='Lollapalooza experience') component generates a <h1>Lollapalooza experience</h1> HTML element in your application.\n",
    "\n",
    "3. Not all components are pure HTML. The dash_core_components describe higher-level components that are interactive and are generated with JavaScript, HTML, and CSS through the React.js library.\n",
    "\n",
    "4. Each component is described entirely through keyword attributes. Dash is declarative: you will primarily describe your application through these attributes.\n",
    "\n",
    "5. The children property is special. By convention, it's always the first attribute which means that you can omit it: html.H1(children='Hello Dash') is the same as html.H1('Hello Dash'). Also, it can contain a string, a number, a single component, or a list of components."
   ]
  },
  {
   "cell_type": "markdown",
   "metadata": {},
   "source": [
    "## Applying CSS stylesheets\n",
    "\n",
    "There are several ways to apply css stylesheets. \n",
    "\n",
    "1. If you place the stylesheets in the assets directory and configure the app using `app = dash.Dash(__name__)` then the stylesheets will be automatically recognised.\n",
    "\n",
    "2. If you wish to use one or more externally hosted stylesheets such as Materialise you can define a list and pass this as a parameter when you execute the code. Modify the code in the Basis Dash app cell below by uncommenting the external_stylesheets and changing the `app = dash.Dash` as follows:\n",
    "\n",
    "```\n",
    "# Define the CSS style sheets to be used\n",
    "external_stylesheets = [\"https://cdnjs.cloudflare.com/ajax/libs/materialize/1.0.0/css/materialize.min.css\"]\n",
    "\n",
    "# Create a Dash app that will be configured to display the chart\n",
    "app = dash.Dash(__name__, external_stylesheets=external_stylesheets)\n",
    "```\n",
    "\n",
    "You will need to restart the kernel (menu option Kernel | Restart) and then run the cell below to see the changes."
   ]
  },
  {
   "cell_type": "code",
   "execution_count": null,
   "metadata": {},
   "outputs": [],
   "source": [
    "# Import the required libraries.\n",
    "import pandas as pd\n",
    "import plotly.express as px\n",
    "import dash\n",
    "import dash_core_components as dcc\n",
    "import dash_html_components as html\n",
    "\n",
    "# Import the data set\n",
    "df = pd.read_csv(\"../data/data.csv\")\n",
    "df['spend'] = df['price']*df['quantitiy']\n",
    "df = df[['date', 'place', 'spend']]\n",
    "df = df.groupby(['date','place']).sum().reset_index()\n",
    "\n",
    "# Create the Plotly figure (bar chart from the previous activity)\n",
    "fig = px.bar(df, x=\"spend\", y=\"date\", color=\"place\", title=\"Purchases by place\")\n",
    "\n",
    "# Create a Dash app\n",
    "\n",
    "# Define the CSS style sheets to be used\n",
    "# external_stylesheets = [\"https://cdnjs.cloudflare.com/ajax/libs/materialize/1.0.0/css/materialize.min.css\"]\n",
    "\n",
    "app = dash.Dash(__name__)\n",
    "# app = dash.Dash(__name__, external_stylesheets=external_stylesheets)\n",
    "\n",
    "# Create the app layout and add the bar chart to it\n",
    "app.layout = html.Div(children=[\n",
    "    \n",
    "    html.H1('Lollapalooza experience'),\n",
    "    \n",
    "    dcc.Graph(figure=fig)\n",
    "])\n",
    "\n",
    "# Run the web app server (turn off reloader as we are running it inside a Jupyter notebook)\n",
    "app.run_server(debug=True, use_reloader=False)  "
   ]
  },
  {
   "cell_type": "markdown",
   "metadata": {},
   "source": [
    "## Using Bootstrap CSS with Dash\n",
    "\n",
    "Bootstrap is a common css framework and there is a library that makes it easier to work with bootstrap in dashapps called [dash-bootstrap-components](https://dash-bootstrap-components.opensource.faculty.ai/docs/quickstart/).\n",
    "\n",
    "This requires the libary to be imported and the app to be configured slightly differently. This doesn't work well within the Jupyter notebook environment so for now the following code is limited to providing the Bootstrap stylesheet but doesn't apply any other specific bootstrap classes to the html elements."
   ]
  },
  {
   "cell_type": "code",
   "execution_count": null,
   "metadata": {
    "pycharm": {
     "name": "#%%\n"
    }
   },
   "outputs": [],
   "source": [
    "import pandas as pd\n",
    "import plotly.express as px\n",
    "import dash\n",
    "import dash_core_components as dcc\n",
    "import dash_html_components as html\n",
    "import dash_bootstrap_components as dbc\n",
    "\n",
    "# Create the bar chart from the previous activity\n",
    "df = pd.read_csv(\"../data/data.csv\")\n",
    "df['spend'] = df['price']*df['quantitiy']\n",
    "df = df[['date', 'place', 'spend']]\n",
    "df = df.groupby(['date','place']).sum().reset_index()\n",
    "fig = px.bar(df, x=\"spend\", y=\"date\", color=\"place\", title=\"Purchases by place\")\n",
    "\n",
    "\n",
    "# Create a Dash app and use the dash-bootstrap-components stylesheet\n",
    "app = dash.Dash(external_stylesheets=[dbc.themes.BOOTSTRAP])\n",
    "\n",
    "# Create the app layout and add the bar chart to it\n",
    "app.layout = html.Div(children=[\n",
    "    \n",
    "    html.H1(children='Lollapalooza experience'),\n",
    "    \n",
    "    dcc.Graph(figure=fig)\n",
    "])\n",
    "\n",
    "\n",
    "# Run the web app server (turn off reloader as we are running it inside a Jupyter notebook)\n",
    "app.run_server(debug=True, use_reloader=False)  \n"
   ]
  },
  {
   "cell_type": "markdown",
   "metadata": {
    "pycharm": {
     "name": "#%% md\n"
    }
   },
   "source": [
    "We are going to move away from using Jupyter notebooks now as it isn't very flexible when it comes to running Dash apps. The next exercise is explained in a markdown document and you will need to create a series of files (rather than a single Jupyter notebook)."
   ]
  }
 ],
 "metadata": {
  "kernelspec": {
   "display_name": "Python 3",
   "language": "python",
   "name": "python3"
  },
  "language_info": {
   "codemirror_mode": {
    "name": "ipython",
    "version": 3
   },
   "file_extension": ".py",
   "mimetype": "text/x-python",
   "name": "python",
   "nbconvert_exporter": "python",
   "pygments_lexer": "ipython3",
   "version": "3.7.3"
  }
 },
 "nbformat": 4,
 "nbformat_minor": 1
}