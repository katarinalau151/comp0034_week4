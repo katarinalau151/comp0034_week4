{
 "cells": [
  {
   "cell_type": "markdown",
   "metadata": {
    "collapsed": true
   },
   "source": [
    "# Introduction to Plotly Dash\n",
    "## Overview\n",
    ">\"Dash is a Python framework for building analytical web applications. No JavaScript required. Dash is ideal for building data visualization apps with highly custom user interfaces in pure Python. It’s particularly suited for anyone who works with data in Python.” — Plotly’s site\n",
    "\n",
    "Dash is written on top of Flask, Plotly.js, and React.js. \n",
    "\n",
    "## How does Dash work? \n",
    "\n",
    "Dash is comprised of:\n",
    "- Frontend generated in Python\n",
    "- Component class for every HTML tag as well as keyword arguments for all of the HTML arguments implemented in `dash_html_components` package\n",
    "- Interactive html elements implemented in `dash-core-components`\n",
    "- Plotly python API implemented in `dash-core-components` available through the Graph class\n",
    "\n",
    "You declare an app layout. The layout will generate react.js code that will be run in the browser. \n",
    "\n",
    "As the layout will generate HTML then it contains elements. Each element has attributes that describe its state.\n",
    "\n",
    "Elements and attributes can be changed by interaction with the user in the browser which makes the app re-render itself. \n",
    "\n",
    "You can listen for any changes to those attributes and run callbacks when a change is heard. \n",
    "\n",
    "The frontend in the browser sends an HTTP request every time an input is changed. \n",
    "\n",
    "The backend recalculates the graph of dependencies and sends back the list of changes to the frontend.\n",
    "\n",
    "The inputs and outputs of our application interface are simply the properties of a particular component. The inputs and outputs are described declaratively through the app.callback decorator. \n",
    "\n",
    "## A basic structure for a Dash app\n",
    "We will get started by building a basic Dash app in a single Python file that presents a chart but doesn't allow any user interaction (i.e. we will leave input/output and callbacks to a later activity).\n",
    "\n",
    "The general sequence of programming steps for our app is:\n",
    "\n",
    "1. Import the required libraries\n",
    "2. Import the dataset\n",
    "3. Create the Plotly figure(s)\n",
    "4. Create the app instance\n",
    "5. Create the layout\n",
    "6. Run the server\n",
    "\n",
    "The libraries we will use in this first example are:\n",
    "- **Pandas** to read and structure the data set\n",
    "- **Plotly express** to create the charts (figures)\n",
    "- **Dash** provides the back end Dash server capability\n",
    "- **dash_html_components** provides classes for all of the HTML tags, and the keyword arguments describe the HTML attributes such as style, class, and id.\n",
    "- **dash_core_components** provides higher-level components such as controls and graphs"
   ]
  },
  {
   "cell_type": "code",
   "execution_count": 1,
   "metadata": {},
   "outputs": [
    {
     "name": "stdout",
     "output_type": "stream",
     "text": [
      "Dash is running on http://127.0.0.1:8050/\n",
      "\n",
      " * Serving Flask app \"__main__\" (lazy loading)\n",
      " * Environment: production\n",
      "\u001B[31m   WARNING: This is a development server. Do not use it in a production deployment.\u001B[0m\n",
      "\u001B[2m   Use a production WSGI server instead.\u001B[0m\n",
      " * Debug mode: on\n"
     ]
    },
    {
     "ename": "OSError",
     "evalue": "[Errno 48] Address already in use",
     "output_type": "error",
     "traceback": [
      "\u001B[0;31m---------------------------------------------------------------------------\u001B[0m",
      "\u001B[0;31mOSError\u001B[0m                                   Traceback (most recent call last)",
      "\u001B[0;32m<ipython-input-1-0a663e261588>\u001B[0m in \u001B[0;36m<module>\u001B[0;34m\u001B[0m\n\u001B[1;32m     28\u001B[0m \u001B[0;34m\u001B[0m\u001B[0m\n\u001B[1;32m     29\u001B[0m \u001B[0;31m# Run the web app server (turn off reloader as we are running it inside a Jupyter notebook)\u001B[0m\u001B[0;34m\u001B[0m\u001B[0;34m\u001B[0m\u001B[0;34m\u001B[0m\u001B[0m\n\u001B[0;32m---> 30\u001B[0;31m \u001B[0mapp\u001B[0m\u001B[0;34m.\u001B[0m\u001B[0mrun_server\u001B[0m\u001B[0;34m(\u001B[0m\u001B[0mdebug\u001B[0m\u001B[0;34m=\u001B[0m\u001B[0;32mTrue\u001B[0m\u001B[0;34m,\u001B[0m \u001B[0muse_reloader\u001B[0m\u001B[0;34m=\u001B[0m\u001B[0;32mFalse\u001B[0m\u001B[0;34m)\u001B[0m\u001B[0;34m\u001B[0m\u001B[0;34m\u001B[0m\u001B[0m\n\u001B[0m\u001B[1;32m     31\u001B[0m \u001B[0;34m\u001B[0m\u001B[0m\n\u001B[1;32m     32\u001B[0m \u001B[0;34m\u001B[0m\u001B[0m\n",
      "\u001B[0;32m~/PycharmProjects/comp0034_week4new/venv/venv/lib/python3.7/site-packages/dash/dash.py\u001B[0m in \u001B[0;36mrun_server\u001B[0;34m(self, host, port, proxy, debug, dev_tools_ui, dev_tools_props_check, dev_tools_serve_dev_bundles, dev_tools_hot_reload, dev_tools_hot_reload_interval, dev_tools_hot_reload_watch_interval, dev_tools_hot_reload_max_retry, dev_tools_silence_routes_logging, dev_tools_prune_errors, **flask_run_options)\u001B[0m\n\u001B[1;32m   1715\u001B[0m             \u001B[0mself\u001B[0m\u001B[0;34m.\u001B[0m\u001B[0mlogger\u001B[0m\u001B[0;34m.\u001B[0m\u001B[0minfo\u001B[0m\u001B[0;34m(\u001B[0m\u001B[0;34m\"Dash is running on %s://%s%s%s\\n\"\u001B[0m\u001B[0;34m,\u001B[0m \u001B[0;34m*\u001B[0m\u001B[0mdisplay_url\u001B[0m\u001B[0;34m)\u001B[0m\u001B[0;34m\u001B[0m\u001B[0;34m\u001B[0m\u001B[0m\n\u001B[1;32m   1716\u001B[0m \u001B[0;34m\u001B[0m\u001B[0m\n\u001B[0;32m-> 1717\u001B[0;31m         \u001B[0mself\u001B[0m\u001B[0;34m.\u001B[0m\u001B[0mserver\u001B[0m\u001B[0;34m.\u001B[0m\u001B[0mrun\u001B[0m\u001B[0;34m(\u001B[0m\u001B[0mhost\u001B[0m\u001B[0;34m=\u001B[0m\u001B[0mhost\u001B[0m\u001B[0;34m,\u001B[0m \u001B[0mport\u001B[0m\u001B[0;34m=\u001B[0m\u001B[0mport\u001B[0m\u001B[0;34m,\u001B[0m \u001B[0mdebug\u001B[0m\u001B[0;34m=\u001B[0m\u001B[0mdebug\u001B[0m\u001B[0;34m,\u001B[0m \u001B[0;34m**\u001B[0m\u001B[0mflask_run_options\u001B[0m\u001B[0;34m)\u001B[0m\u001B[0;34m\u001B[0m\u001B[0;34m\u001B[0m\u001B[0m\n\u001B[0m",
      "\u001B[0;32m~/PycharmProjects/comp0034_week4new/venv/venv/lib/python3.7/site-packages/flask/app.py\u001B[0m in \u001B[0;36mrun\u001B[0;34m(self, host, port, debug, load_dotenv, **options)\u001B[0m\n\u001B[1;32m    988\u001B[0m \u001B[0;34m\u001B[0m\u001B[0m\n\u001B[1;32m    989\u001B[0m         \u001B[0;32mtry\u001B[0m\u001B[0;34m:\u001B[0m\u001B[0;34m\u001B[0m\u001B[0;34m\u001B[0m\u001B[0m\n\u001B[0;32m--> 990\u001B[0;31m             \u001B[0mrun_simple\u001B[0m\u001B[0;34m(\u001B[0m\u001B[0mhost\u001B[0m\u001B[0;34m,\u001B[0m \u001B[0mport\u001B[0m\u001B[0;34m,\u001B[0m \u001B[0mself\u001B[0m\u001B[0;34m,\u001B[0m \u001B[0;34m**\u001B[0m\u001B[0moptions\u001B[0m\u001B[0;34m)\u001B[0m\u001B[0;34m\u001B[0m\u001B[0;34m\u001B[0m\u001B[0m\n\u001B[0m\u001B[1;32m    991\u001B[0m         \u001B[0;32mfinally\u001B[0m\u001B[0;34m:\u001B[0m\u001B[0;34m\u001B[0m\u001B[0;34m\u001B[0m\u001B[0m\n\u001B[1;32m    992\u001B[0m             \u001B[0;31m# reset the first request information if the development server\u001B[0m\u001B[0;34m\u001B[0m\u001B[0;34m\u001B[0m\u001B[0;34m\u001B[0m\u001B[0m\n",
      "\u001B[0;32m~/PycharmProjects/comp0034_week4new/venv/venv/lib/python3.7/site-packages/werkzeug/serving.py\u001B[0m in \u001B[0;36mrun_simple\u001B[0;34m(hostname, port, application, use_reloader, use_debugger, use_evalex, extra_files, reloader_interval, reloader_type, threaded, processes, request_handler, static_files, passthrough_errors, ssl_context)\u001B[0m\n\u001B[1;32m   1050\u001B[0m         \u001B[0mrun_with_reloader\u001B[0m\u001B[0;34m(\u001B[0m\u001B[0minner\u001B[0m\u001B[0;34m,\u001B[0m \u001B[0mextra_files\u001B[0m\u001B[0;34m,\u001B[0m \u001B[0mreloader_interval\u001B[0m\u001B[0;34m,\u001B[0m \u001B[0mreloader_type\u001B[0m\u001B[0;34m)\u001B[0m\u001B[0;34m\u001B[0m\u001B[0;34m\u001B[0m\u001B[0m\n\u001B[1;32m   1051\u001B[0m     \u001B[0;32melse\u001B[0m\u001B[0;34m:\u001B[0m\u001B[0;34m\u001B[0m\u001B[0;34m\u001B[0m\u001B[0m\n\u001B[0;32m-> 1052\u001B[0;31m         \u001B[0minner\u001B[0m\u001B[0;34m(\u001B[0m\u001B[0;34m)\u001B[0m\u001B[0;34m\u001B[0m\u001B[0;34m\u001B[0m\u001B[0m\n\u001B[0m\u001B[1;32m   1053\u001B[0m \u001B[0;34m\u001B[0m\u001B[0m\n\u001B[1;32m   1054\u001B[0m \u001B[0;34m\u001B[0m\u001B[0m\n",
      "\u001B[0;32m~/PycharmProjects/comp0034_week4new/venv/venv/lib/python3.7/site-packages/werkzeug/serving.py\u001B[0m in \u001B[0;36minner\u001B[0;34m()\u001B[0m\n\u001B[1;32m   1003\u001B[0m             \u001B[0mpassthrough_errors\u001B[0m\u001B[0;34m,\u001B[0m\u001B[0;34m\u001B[0m\u001B[0;34m\u001B[0m\u001B[0m\n\u001B[1;32m   1004\u001B[0m             \u001B[0mssl_context\u001B[0m\u001B[0;34m,\u001B[0m\u001B[0;34m\u001B[0m\u001B[0;34m\u001B[0m\u001B[0m\n\u001B[0;32m-> 1005\u001B[0;31m             \u001B[0mfd\u001B[0m\u001B[0;34m=\u001B[0m\u001B[0mfd\u001B[0m\u001B[0;34m,\u001B[0m\u001B[0;34m\u001B[0m\u001B[0;34m\u001B[0m\u001B[0m\n\u001B[0m\u001B[1;32m   1006\u001B[0m         )\n\u001B[1;32m   1007\u001B[0m         \u001B[0;32mif\u001B[0m \u001B[0mfd\u001B[0m \u001B[0;32mis\u001B[0m \u001B[0;32mNone\u001B[0m\u001B[0;34m:\u001B[0m\u001B[0;34m\u001B[0m\u001B[0;34m\u001B[0m\u001B[0m\n",
      "\u001B[0;32m~/PycharmProjects/comp0034_week4new/venv/venv/lib/python3.7/site-packages/werkzeug/serving.py\u001B[0m in \u001B[0;36mmake_server\u001B[0;34m(host, port, app, threaded, processes, request_handler, passthrough_errors, ssl_context, fd)\u001B[0m\n\u001B[1;32m    846\u001B[0m     \u001B[0;32melif\u001B[0m \u001B[0mthreaded\u001B[0m\u001B[0;34m:\u001B[0m\u001B[0;34m\u001B[0m\u001B[0;34m\u001B[0m\u001B[0m\n\u001B[1;32m    847\u001B[0m         return ThreadedWSGIServer(\n\u001B[0;32m--> 848\u001B[0;31m             \u001B[0mhost\u001B[0m\u001B[0;34m,\u001B[0m \u001B[0mport\u001B[0m\u001B[0;34m,\u001B[0m \u001B[0mapp\u001B[0m\u001B[0;34m,\u001B[0m \u001B[0mrequest_handler\u001B[0m\u001B[0;34m,\u001B[0m \u001B[0mpassthrough_errors\u001B[0m\u001B[0;34m,\u001B[0m \u001B[0mssl_context\u001B[0m\u001B[0;34m,\u001B[0m \u001B[0mfd\u001B[0m\u001B[0;34m=\u001B[0m\u001B[0mfd\u001B[0m\u001B[0;34m\u001B[0m\u001B[0;34m\u001B[0m\u001B[0m\n\u001B[0m\u001B[1;32m    849\u001B[0m         )\n\u001B[1;32m    850\u001B[0m     \u001B[0;32melif\u001B[0m \u001B[0mprocesses\u001B[0m \u001B[0;34m>\u001B[0m \u001B[0;36m1\u001B[0m\u001B[0;34m:\u001B[0m\u001B[0;34m\u001B[0m\u001B[0;34m\u001B[0m\u001B[0m\n",
      "\u001B[0;32m~/PycharmProjects/comp0034_week4new/venv/venv/lib/python3.7/site-packages/werkzeug/serving.py\u001B[0m in \u001B[0;36m__init__\u001B[0;34m(self, host, port, app, handler, passthrough_errors, ssl_context, fd)\u001B[0m\n\u001B[1;32m    738\u001B[0m         \u001B[0;32mif\u001B[0m \u001B[0mself\u001B[0m\u001B[0;34m.\u001B[0m\u001B[0maddress_family\u001B[0m \u001B[0;34m==\u001B[0m \u001B[0maf_unix\u001B[0m \u001B[0;32mand\u001B[0m \u001B[0mos\u001B[0m\u001B[0;34m.\u001B[0m\u001B[0mpath\u001B[0m\u001B[0;34m.\u001B[0m\u001B[0mexists\u001B[0m\u001B[0;34m(\u001B[0m\u001B[0mserver_address\u001B[0m\u001B[0;34m)\u001B[0m\u001B[0;34m:\u001B[0m\u001B[0;34m\u001B[0m\u001B[0;34m\u001B[0m\u001B[0m\n\u001B[1;32m    739\u001B[0m             \u001B[0mos\u001B[0m\u001B[0;34m.\u001B[0m\u001B[0munlink\u001B[0m\u001B[0;34m(\u001B[0m\u001B[0mserver_address\u001B[0m\u001B[0;34m)\u001B[0m\u001B[0;34m\u001B[0m\u001B[0;34m\u001B[0m\u001B[0m\n\u001B[0;32m--> 740\u001B[0;31m         \u001B[0mHTTPServer\u001B[0m\u001B[0;34m.\u001B[0m\u001B[0m__init__\u001B[0m\u001B[0;34m(\u001B[0m\u001B[0mself\u001B[0m\u001B[0;34m,\u001B[0m \u001B[0mserver_address\u001B[0m\u001B[0;34m,\u001B[0m \u001B[0mhandler\u001B[0m\u001B[0;34m)\u001B[0m\u001B[0;34m\u001B[0m\u001B[0;34m\u001B[0m\u001B[0m\n\u001B[0m\u001B[1;32m    741\u001B[0m \u001B[0;34m\u001B[0m\u001B[0m\n\u001B[1;32m    742\u001B[0m         \u001B[0mself\u001B[0m\u001B[0;34m.\u001B[0m\u001B[0mapp\u001B[0m \u001B[0;34m=\u001B[0m \u001B[0mapp\u001B[0m\u001B[0;34m\u001B[0m\u001B[0;34m\u001B[0m\u001B[0m\n",
      "\u001B[0;32m/Library/Frameworks/Python.framework/Versions/3.7/lib/python3.7/socketserver.py\u001B[0m in \u001B[0;36m__init__\u001B[0;34m(self, server_address, RequestHandlerClass, bind_and_activate)\u001B[0m\n\u001B[1;32m    450\u001B[0m         \u001B[0;32mif\u001B[0m \u001B[0mbind_and_activate\u001B[0m\u001B[0;34m:\u001B[0m\u001B[0;34m\u001B[0m\u001B[0;34m\u001B[0m\u001B[0m\n\u001B[1;32m    451\u001B[0m             \u001B[0;32mtry\u001B[0m\u001B[0;34m:\u001B[0m\u001B[0;34m\u001B[0m\u001B[0;34m\u001B[0m\u001B[0m\n\u001B[0;32m--> 452\u001B[0;31m                 \u001B[0mself\u001B[0m\u001B[0;34m.\u001B[0m\u001B[0mserver_bind\u001B[0m\u001B[0;34m(\u001B[0m\u001B[0;34m)\u001B[0m\u001B[0;34m\u001B[0m\u001B[0;34m\u001B[0m\u001B[0m\n\u001B[0m\u001B[1;32m    453\u001B[0m                 \u001B[0mself\u001B[0m\u001B[0;34m.\u001B[0m\u001B[0mserver_activate\u001B[0m\u001B[0;34m(\u001B[0m\u001B[0;34m)\u001B[0m\u001B[0;34m\u001B[0m\u001B[0;34m\u001B[0m\u001B[0m\n\u001B[1;32m    454\u001B[0m             \u001B[0;32mexcept\u001B[0m\u001B[0;34m:\u001B[0m\u001B[0;34m\u001B[0m\u001B[0;34m\u001B[0m\u001B[0m\n",
      "\u001B[0;32m/Library/Frameworks/Python.framework/Versions/3.7/lib/python3.7/http/server.py\u001B[0m in \u001B[0;36mserver_bind\u001B[0;34m(self)\u001B[0m\n\u001B[1;32m    135\u001B[0m     \u001B[0;32mdef\u001B[0m \u001B[0mserver_bind\u001B[0m\u001B[0;34m(\u001B[0m\u001B[0mself\u001B[0m\u001B[0;34m)\u001B[0m\u001B[0;34m:\u001B[0m\u001B[0;34m\u001B[0m\u001B[0;34m\u001B[0m\u001B[0m\n\u001B[1;32m    136\u001B[0m         \u001B[0;34m\"\"\"Override server_bind to store the server name.\"\"\"\u001B[0m\u001B[0;34m\u001B[0m\u001B[0;34m\u001B[0m\u001B[0m\n\u001B[0;32m--> 137\u001B[0;31m         \u001B[0msocketserver\u001B[0m\u001B[0;34m.\u001B[0m\u001B[0mTCPServer\u001B[0m\u001B[0;34m.\u001B[0m\u001B[0mserver_bind\u001B[0m\u001B[0;34m(\u001B[0m\u001B[0mself\u001B[0m\u001B[0;34m)\u001B[0m\u001B[0;34m\u001B[0m\u001B[0;34m\u001B[0m\u001B[0m\n\u001B[0m\u001B[1;32m    138\u001B[0m         \u001B[0mhost\u001B[0m\u001B[0;34m,\u001B[0m \u001B[0mport\u001B[0m \u001B[0;34m=\u001B[0m \u001B[0mself\u001B[0m\u001B[0;34m.\u001B[0m\u001B[0mserver_address\u001B[0m\u001B[0;34m[\u001B[0m\u001B[0;34m:\u001B[0m\u001B[0;36m2\u001B[0m\u001B[0;34m]\u001B[0m\u001B[0;34m\u001B[0m\u001B[0;34m\u001B[0m\u001B[0m\n\u001B[1;32m    139\u001B[0m         \u001B[0mself\u001B[0m\u001B[0;34m.\u001B[0m\u001B[0mserver_name\u001B[0m \u001B[0;34m=\u001B[0m \u001B[0msocket\u001B[0m\u001B[0;34m.\u001B[0m\u001B[0mgetfqdn\u001B[0m\u001B[0;34m(\u001B[0m\u001B[0mhost\u001B[0m\u001B[0;34m)\u001B[0m\u001B[0;34m\u001B[0m\u001B[0;34m\u001B[0m\u001B[0m\n",
      "\u001B[0;32m/Library/Frameworks/Python.framework/Versions/3.7/lib/python3.7/socketserver.py\u001B[0m in \u001B[0;36mserver_bind\u001B[0;34m(self)\u001B[0m\n\u001B[1;32m    464\u001B[0m         \u001B[0;32mif\u001B[0m \u001B[0mself\u001B[0m\u001B[0;34m.\u001B[0m\u001B[0mallow_reuse_address\u001B[0m\u001B[0;34m:\u001B[0m\u001B[0;34m\u001B[0m\u001B[0;34m\u001B[0m\u001B[0m\n\u001B[1;32m    465\u001B[0m             \u001B[0mself\u001B[0m\u001B[0;34m.\u001B[0m\u001B[0msocket\u001B[0m\u001B[0;34m.\u001B[0m\u001B[0msetsockopt\u001B[0m\u001B[0;34m(\u001B[0m\u001B[0msocket\u001B[0m\u001B[0;34m.\u001B[0m\u001B[0mSOL_SOCKET\u001B[0m\u001B[0;34m,\u001B[0m \u001B[0msocket\u001B[0m\u001B[0;34m.\u001B[0m\u001B[0mSO_REUSEADDR\u001B[0m\u001B[0;34m,\u001B[0m \u001B[0;36m1\u001B[0m\u001B[0;34m)\u001B[0m\u001B[0;34m\u001B[0m\u001B[0;34m\u001B[0m\u001B[0m\n\u001B[0;32m--> 466\u001B[0;31m         \u001B[0mself\u001B[0m\u001B[0;34m.\u001B[0m\u001B[0msocket\u001B[0m\u001B[0;34m.\u001B[0m\u001B[0mbind\u001B[0m\u001B[0;34m(\u001B[0m\u001B[0mself\u001B[0m\u001B[0;34m.\u001B[0m\u001B[0mserver_address\u001B[0m\u001B[0;34m)\u001B[0m\u001B[0;34m\u001B[0m\u001B[0;34m\u001B[0m\u001B[0m\n\u001B[0m\u001B[1;32m    467\u001B[0m         \u001B[0mself\u001B[0m\u001B[0;34m.\u001B[0m\u001B[0mserver_address\u001B[0m \u001B[0;34m=\u001B[0m \u001B[0mself\u001B[0m\u001B[0;34m.\u001B[0m\u001B[0msocket\u001B[0m\u001B[0;34m.\u001B[0m\u001B[0mgetsockname\u001B[0m\u001B[0;34m(\u001B[0m\u001B[0;34m)\u001B[0m\u001B[0;34m\u001B[0m\u001B[0;34m\u001B[0m\u001B[0m\n\u001B[1;32m    468\u001B[0m \u001B[0;34m\u001B[0m\u001B[0m\n",
      "\u001B[0;31mOSError\u001B[0m: [Errno 48] Address already in use"
     ]
    }
   ],
   "source": [
    "# Import the required libraries.\n",
    "import pandas as pd\n",
    "import plotly.express as px\n",
    "import dash\n",
    "import dash_core_components as dcc\n",
    "import dash_html_components as html\n",
    "\n",
    "# Import the dataset\n",
    "df = pd.read_csv(\"../data/purchase_data.csv\")\n",
    "df['spend'] = df['price']*df['quantitiy']\n",
    "df = df[['date', 'place', 'spend']]\n",
    "df = df.groupby(['date','place']).sum().reset_index()\n",
    "\n",
    "# Create the Plotly figure (bar chart from the lollapalooza activity)\n",
    "fig = px.bar(df, x=\"spend\", y=\"date\", color=\"place\", title=\"Purchases by place\")\n",
    "\n",
    "# Create a Dash app instance\n",
    "app = dash.Dash(__name__)\n",
    "\n",
    "# Create the app layout \n",
    "app.layout = html.Div(children=[\n",
    "    \n",
    "    html.H1('Lollapalooza experience'),\n",
    "    \n",
    "    # add the bar chart to the layout\n",
    "    dcc.Graph(figure=fig)\n",
    "])\n",
    "\n",
    "# Run the web app server (turn off reloader as we are running it inside a Jupyter notebook)\n",
    "app.run_server(debug=True, use_reloader=False)  \n"
   ]
  },
  {
   "cell_type": "markdown",
   "metadata": {},
   "source": [
    "## App layout\n",
    "\n",
    "The following is from the [Dash documentation](https://dash.plotly.com/layout).\n",
    "\n",
    "\n",
    "1. The layout of a Dash app describes what the app looks like. The layout is a hierarchical tree of components e.g. such as `html.Div` and `dcc.Graph` in the following example.\n",
    "\n",
    "<img src=\"../assets/tree.png\" alt=\"tree of components\" width=\"200\" style=\"float:left;padding-right:20px\"/>\n",
    "\n",
    "```python\n",
    "\n",
    "app.layout = html.Div(children=[\n",
    "    \n",
    "    html.H1('Lollapalooza experience'),\n",
    "    \n",
    "    dcc.Graph(figure=fig)\n",
    "])\n",
    "\n",
    "```\n",
    "\n",
    "\n",
    "2. The [dash_html_components](https://dash.plotly.com/dash-html-components) library provides classes for all of the HTML tags and the keyword arguments describe the HTML attributes like style, className, and id. \n",
    "    \n",
    "    The `html.H1('Lollapalooza experience')` component generates a `<h1>Lollapalooza experience</h1>` HTML element in the application.\n",
    "    \n",
    "\n",
    "3. Not all components are pure HTML. The `dash_core_components` describe higher-level components that are interactive and are generated with JavaScript, HTML, and CSS through the React.js library.\n",
    "\n",
    "    e.g. `dcc.Graph(figure=fig)`\n",
    "\n",
    "4. Each component is described entirely through keyword attributes. Dash is declarative: you will primarily describe your application through these attributes.\n",
    "\n",
    "\n",
    "5. The children property is special. By convention, it's always the first attribute which means that you can omit it: \n",
    "\n",
    "    `html.H1(children='Hello Dash')` is the same as `html.H1('Hello Dash')`. \n",
    "    \n",
    "    Also, it can contain a string, a number, a single component, or a list of components.\n",
    "    "
   ]
  },
  {
   "cell_type": "markdown",
   "metadata": {},
   "source": [
    "## Applying CSS stylesheets\n",
    "\n",
    "There are several ways to apply css stylesheets. \n",
    "\n",
    "1. If you place the stylesheets in the assets directory and configure the app using `app = dash.Dash(__name__)` then the stylesheets will be automatically recognised.\n",
    "\n",
    "2. If you wish to use one or more externally hosted stylesheets such as Materialise you can define a list and pass this as a parameter when you execute the code. Modify the code in the Dash app cell below by uncommenting the external_stylesheets and changing the `app = dash.Dash` as follows:\n",
    "\n",
    "```\n",
    "# Define the CSS style sheets to be used\n",
    "external_stylesheets = [\"https://cdnjs.cloudflare.com/ajax/libs/materialize/1.0.0/css/materialize.min.css\"]\n",
    "\n",
    "# Create a Dash app that will be configured to display the chart\n",
    "app = dash.Dash(__name__, external_stylesheets=external_stylesheets)\n",
    "```\n",
    "\n",
    "You will need to restart the kernel (menu option Kernel | Restart) and then run the cell below to see the changes."
   ]
  },
  {
   "cell_type": "code",
   "execution_count": null,
   "metadata": {},
   "outputs": [],
   "source": [
    "# Import the required libraries.\n",
    "import pandas as pd\n",
    "import plotly.express as px\n",
    "import dash\n",
    "import dash_core_components as dcc\n",
    "import dash_html_components as html\n",
    "\n",
    "# Import the data set\n",
    "df = pd.read_csv(\"../data/purchase_data.csv\")\n",
    "df['spend'] = df['price']*df['quantitiy']\n",
    "df = df[['date', 'place', 'spend']]\n",
    "df = df.groupby(['date','place']).sum().reset_index()\n",
    "\n",
    "# Create the Plotly figure (bar chart from the previous activity)\n",
    "fig = px.bar(df, x=\"spend\", y=\"date\", color=\"place\", title=\"Purchases by place\")\n",
    "\n",
    "# Create a Dash app\n",
    "\n",
    "# Define the CSS style sheets to be used\n",
    "external_stylesheets = [\"https://cdnjs.cloudflare.com/ajax/libs/materialize/1.0.0/css/materialize.min.css\"]\n",
    "\n",
    "# app = dash.Dash(__name__)\n",
    "app = dash.Dash(__name__, external_stylesheets=external_stylesheets)\n",
    "\n",
    "# Create the app layout and add the bar chart to it\n",
    "app.layout = html.Div(children=[\n",
    "    \n",
    "    html.H1('Lollapalooza experience'),\n",
    "    \n",
    "    dcc.Graph(figure=fig)\n",
    "])\n",
    "\n",
    "# Run the web app server (turn off reloader as we are running it inside a Jupyter notebook)\n",
    "app.run_server(debug=True, use_reloader=False)  "
   ]
  },
  {
   "cell_type": "markdown",
   "metadata": {},
   "source": [
    "## Using Bootstrap CSS with Dash\n",
    "\n",
    "Bootstrap is a common css framework and there is a library that makes it easier to work with bootstrap in dashapps called [dash-bootstrap-components](https://dash-bootstrap-components.opensource.faculty.ai/docs/quickstart/).\n",
    "\n",
    "This requires the libary to be imported and the app to be configured slightly differently. This doesn't work well within the Jupyter notebook environment so for now the following code is limited to providing the Bootstrap stylesheet but doesn't apply any other specific bootstrap classes to the html elements."
   ]
  },
  {
   "cell_type": "code",
   "execution_count": null,
   "metadata": {
    "pycharm": {
     "name": "#%%\n"
    }
   },
   "outputs": [],
   "source": [
    "import pandas as pd\n",
    "import plotly.express as px\n",
    "import dash\n",
    "import dash_core_components as dcc\n",
    "import dash_html_components as html\n",
    "import dash_bootstrap_components as dbc\n",
    "\n",
    "# Create the bar chart from the previous activity\n",
    "df = pd.read_csv(\"../data/purchase_data.csv\")\n",
    "df['spend'] = df['price']*df['quantitiy']\n",
    "df = df[['date', 'place', 'spend']]\n",
    "df = df.groupby(['date','place']).sum().reset_index()\n",
    "fig = px.bar(df, x=\"spend\", y=\"date\", color=\"place\", title=\"Purchases by place\")\n",
    "\n",
    "\n",
    "# Create a Dash app and use the dash-bootstrap-components stylesheet\n",
    "app = dash.Dash(__name__, external_stylesheets=[dbc.themes.BOOTSTRAP])\n",
    "\n",
    "# Create the app layout and add the bar chart to it\n",
    "app.layout = html.Div(children=[\n",
    "    \n",
    "    html.H1(children='Lollapalooza experience'),\n",
    "    \n",
    "    dcc.Graph(figure=fig)\n",
    "])\n",
    "\n",
    "\n",
    "# Run the web app server (turn off reloader as we are running it inside a Jupyter notebook)\n",
    "app.run_server(debug=True, use_reloader=False)  \n"
   ]
  },
  {
   "cell_type": "markdown",
   "metadata": {
    "pycharm": {
     "name": "#%% md\n"
    }
   },
   "source": [
    "We are going to move away from using Jupyter notebooks now as it isn't very flexible when it comes to running Dash apps. The next exercise is explained in a markdown document and you will need to create a series of files (rather than a single Jupyter notebook)."
   ]
  }
 ],
 "metadata": {
  "kernelspec": {
   "display_name": "Python 3",
   "language": "python",
   "name": "python3"
  },
  "language_info": {
   "codemirror_mode": {
    "name": "ipython",
    "version": 3
   },
   "file_extension": ".py",
   "mimetype": "text/x-python",
   "name": "python",
   "nbconvert_exporter": "python",
   "pygments_lexer": "ipython3",
   "version": "3.7.3"
  }
 },
 "nbformat": 4,
 "nbformat_minor": 1
}