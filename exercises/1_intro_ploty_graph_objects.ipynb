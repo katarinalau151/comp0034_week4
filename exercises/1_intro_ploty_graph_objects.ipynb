{
 "cells": [
  {
   "cell_type": "markdown",
   "metadata": {
    "collapsed": true
   },
   "source": [
    "# Overview of `plotly.graph_objects`\n",
    "\n",
    "Last week we used Plotly Express to build charts.\n",
    "\n",
    "Plotly Express is a module within Plotly.py and provides a high level API for creating charts. Plotly Express actually returns an instance of `plotly.graph_objects.Figure`, that is, Plotly Express uses Plotly Graph Objects under the hood.\n",
    "\n",
    "You may need to change features of a visualisation that are not exposed in Plotly Express, or you may need to create a figure type that is not yet available in Plotly Express, in which case you would need to use Plotly.py Graph Objects instead. The following is a brief overview of using graph objects. \n",
    "\n",
    "For many of you Plotly Express will be sufficient for the coursework so you may skip this activity if you find it confusing to learn too many ways to create charts.\n",
    "\n",
    "Please refer to the [Plotly graph objects documentation](https://plotly.com/python/graph-objects/#) and [API reference ](https://plotly.com/python-api-reference/plotly.graph_objects.html) for more detail.\n",
    "\n",
    "## Plotly.py overview\n",
    "There are 3 main concepts in Plotly’s philosophy:\n",
    "1. Data\n",
    "2. Layout\n",
    "3. Figure\n",
    "\n",
    "### Data\n",
    "The Data object defines what we want to display in the chart (that is, the data). We define a collection of data and the specifications to display them as a trace. A Data object can have many traces. Think of a line chart with two lines representing two different categories: each line is a trace.\n",
    "\n",
    "### Layout\n",
    "The Layout object defines features that are not related to data (like title, axis titles, and so on). We can also use the Layout to add annotations and shapes to the chart.\n",
    "\n",
    "### Figure\n",
    "The Figure object creates the final object to be plotted. It's an object that contains both data and layout.\n",
    "\n",
    "Plotly visualizations are built with plotly.js. This means that the Python API is just a package to interact with the plotly.js library. The plotly.graph_objs module contains the functions that will generate graph objects for us.\n",
    "\n",
    "### Example chart\n",
    "The following example uses [household recycling data from the London Data Store](https://data.london.gov.uk/dataset/household-waste-recycling-rates-borough) and recreates the following chart. <img alt=\"recycling\" src=\"../assets/recycling.png\" width=500 />"
   ]
  },
  {
   "cell_type": "code",
   "execution_count": null,
   "metadata": {},
   "outputs": [],
   "source": [
    "import plotly.graph_objects as go\n",
    "import pandas as pd\n",
    "import plotly.io as pio\n",
    "pio.renderers.default = \"notebook\"\n",
    "\n",
    "# Read the dataset into a pandas dataframe\n",
    "df = pd.read_csv(\"../data/household_recycling.csv\")\n",
    "\n",
    "# Select the rows of data for London and England\n",
    "df_lon = df.loc[df['Area'] == 'London']\n",
    "df_eng = df.loc[df['Area'] == 'England']\n",
    "\n",
    "# Create the data (traces) for Plotly Graph Objects as a scatter type\n",
    "data_lon = go.Scatter(x=df_lon['Year'], y=df_lon['Recycling_Rates'], mode='lines', name='London', \n",
    "                      line=dict(color='firebrick', width=4))\n",
    "data_eng = go.Scatter(x=df_eng['Year'], y=df_eng['Recycling_Rates'], mode='lines', name='England', \n",
    "                      line=dict(color='lightgrey', dash='dash'))\n",
    "\n",
    "# Create the layout \n",
    "layout = go.Layout(title=\"Recycyling\", showlegend=True, plot_bgcolor=\"#ffffff\")\n",
    "\n",
    "# Create the figure\n",
    "figure = go.Figure(layout=layout)\n",
    "\n",
    "# Update the figure and add the traces\n",
    "figure.add_trace(data_lon)\n",
    "figure.add_trace(data_eng)\n",
    "\n",
    "# Update the layout of the axes to look a little closer to the original chart we are copyin\n",
    "figure.update_layout(yaxis_title=\"Percent\")\n",
    "figure.update_yaxes(title_font=dict(size=14, color='#CDCDCD'), \n",
    "                    tickfont=dict(color='#CDCDCD', size=12), ticksuffix=\"%\",\n",
    "                   showgrid=True, gridwidth=1, gridcolor='#CDCDCD', \n",
    "                   tick0=0.0, dtick=10.0, range=[0, 45])\n",
    "figure.update_xaxes(tickangle=90, tickfont=dict(color='#CDCDCD', size=12),\n",
    "                   showline=True, linewidth=2, linecolor='#CDCDCD')\n",
    "\n",
    "\n",
    "figure.show()"
   ]
  },
  {
   "cell_type": "markdown",
   "metadata": {
    "pycharm": {
     "name": "#%% md\n"
    }
   },
   "source": [
    "## A note on rendering the chart\n",
    "There are many ways to render a chart using Plotly and these are explained in their documentation.\n",
    "\n",
    "We will shortly move on to displaying the charts using Dash so we won't be spending time exploring the rendering options.\n",
    "\n",
    "However you might find it useful to use Jupyter notebooks when you are trying out the charts and render them in a browser window (rather than save to HTML or view in the notebook).\n",
    "\n",
    "To do this look at the cell below and change `pio.renderers.default = \"notebook\"` to `pio.renderers.default = \"browser\"`\n",
    "\n",
    "**Note: this will not work if you are using Binder**"
   ]
  },
  {
   "cell_type": "code",
   "execution_count": null,
   "metadata": {
    "pycharm": {
     "name": "#%%\n"
    }
   },
   "outputs": [],
   "source": [
    "import plotly.graph_objects as go\n",
    "import pandas as pd\n",
    "import plotly.io as pio\n",
    "pio.renderers.default = \"browser\"\n",
    "\n",
    "# Read the dataset into a pandas dataframe\n",
    "df = pd.read_csv(\"../data/household_recycling.csv\")\n",
    "\n",
    "# Select the rows of data for London and England\n",
    "df_lon = df.loc[df['Area'] == 'London']\n",
    "df_eng = df.loc[df['Area'] == 'England']\n",
    "\n",
    "# Create the data (traces) for Plotly Graph Objects as a scatter type\n",
    "data_lon = go.Scatter(x=df_lon['Year'], y=df_lon['Recycling_Rates'], mode='lines', name='London', line=dict(color='firebrick', width=4))\n",
    "data_eng = go.Scatter(x=df_eng['Year'], y=df_eng['Recycling_Rates'], mode='lines', name='England', line=dict(color='lightgrey', dash='dash'))\n",
    "\n",
    "# Create the layout \n",
    "layout = go.Layout(title=\"Recycyling\", showlegend=True, plot_bgcolor=\"#ffffff\")\n",
    "\n",
    "# Create the figure\n",
    "figure = go.Figure(layout=layout)\n",
    "\n",
    "# Update the figure and add the traces\n",
    "figure.add_trace(data_lon)\n",
    "figure.add_trace(data_eng)\n",
    "\n",
    "# Update the layout of the axes to look a little closer to the original chart we are copyin\n",
    "figure.update_layout(yaxis_title=\"Percent\")\n",
    "figure.update_yaxes(title_font=dict(size=14, color='#CDCDCD'), \n",
    "                    tickfont=dict(color='#CDCDCD', size=12), ticksuffix=\"%\",\n",
    "                   showgrid=True, gridwidth=1, gridcolor='#CDCDCD', \n",
    "                   tick0=0.0, dtick=10.0, range=[0, 45])\n",
    "figure.update_xaxes(tickangle=90, tickfont=dict(color='#CDCDCD', size=12),\n",
    "                   showline=True, linewidth=2, linecolor='#CDCDCD')\n",
    "\n",
    "\n",
    "figure.show()"
   ]
  },
  {
   "cell_type": "code",
   "execution_count": null,
   "metadata": {},
   "outputs": [],
   "source": []
  }
 ],
 "metadata": {
  "kernelspec": {
   "display_name": "Python 3",
   "language": "python",
   "name": "python3"
  },
  "language_info": {
   "codemirror_mode": {
    "name": "ipython",
    "version": 3
   },
   "file_extension": ".py",
   "mimetype": "text/x-python",
   "name": "python",
   "nbconvert_exporter": "python",
   "pygments_lexer": "ipython3",
   "version": "3.7.3"
  }
 },
 "nbformat": 4,
 "nbformat_minor": 1
}